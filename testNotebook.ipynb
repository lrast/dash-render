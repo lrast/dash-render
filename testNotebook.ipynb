{
 "cells": [
  {
   "cell_type": "markdown",
   "id": "1cfe8bc1-f0cd-4697-a210-f98eee4b76c0",
   "metadata": {},
   "source": [
    "# This is a notebook to test inclusion of live graphics"
   ]
  },
  {
   "cell_type": "code",
   "execution_count": 4,
   "id": "3045a3b7-75bd-4bae-9a3a-eafe5f1d64f5",
   "metadata": {},
   "outputs": [],
   "source": [
    "from IPython.display import display, HTML"
   ]
  },
  {
   "cell_type": "code",
   "execution_count": 28,
   "id": "06dff1de-fc18-4e9a-94a4-c11b867b3372",
   "metadata": {},
   "outputs": [],
   "source": [
    "graphic = !curl https://enefit-figures-server.onrender.com/test\n"
   ]
  },
  {
   "cell_type": "code",
   "execution_count": 36,
   "id": "8f54efad-95ea-459b-acc2-af0df59dd27b",
   "metadata": {},
   "outputs": [
    {
     "data": {
      "text/html": [
       "<iframe src=\"https://enefit-figures-server.onrender.com/test\" width=\"1000\" height=\"1000\"></iframe>\n"
      ],
      "text/plain": [
       "<IPython.core.display.HTML object>"
      ]
     },
     "metadata": {},
     "output_type": "display_data"
    }
   ],
   "source": [
    "%%html\n",
    "<iframe src=\"https://enefit-figures-server.onrender.com/test\" width=\"1000\" height=\"1000\"></iframe>"
   ]
  },
  {
   "cell_type": "code",
   "execution_count": null,
   "id": "000b3b74-acdc-4ecb-bae6-1456e1b18371",
   "metadata": {},
   "outputs": [],
   "source": []
  },
  {
   "cell_type": "code",
   "execution_count": null,
   "id": "06957089-1f24-499a-ba55-db1fb0989d67",
   "metadata": {},
   "outputs": [],
   "source": []
  }
 ],
 "metadata": {
  "kernelspec": {
   "display_name": "Python 3",
   "language": "python",
   "name": "python3"
  },
  "language_info": {
   "codemirror_mode": {
    "name": "ipython",
    "version": 3
   },
   "file_extension": ".py",
   "mimetype": "text/x-python",
   "name": "python",
   "nbconvert_exporter": "python",
   "pygments_lexer": "ipython3",
   "version": "3.9.18"
  }
 },
 "nbformat": 4,
 "nbformat_minor": 5
}
